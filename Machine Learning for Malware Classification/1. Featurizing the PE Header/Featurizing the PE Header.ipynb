{
 "cells": [
  {
   "cell_type": "markdown",
   "metadata": {},
   "source": [
    "In this exercise, we use the pefile module to analyze PE malware samples in the \"Mediyes\" folder. The goal is to extract the names of the PE sections, as well as the names of imported DLLs from each sample. "
   ]
  },
  {
   "cell_type": "code",
   "execution_count": 1,
   "metadata": {},
   "outputs": [],
   "source": [
    "# To install pefile, uncomment and execute the following line:\n",
    "#!pip install pefile"
   ]
  },
  {
   "cell_type": "code",
   "execution_count": 1,
   "metadata": {},
   "outputs": [],
   "source": [
    "from os import listdir\n",
    "from os.path import isfile, join\n",
    "directories = [\"Mediyes\"]\n",
    "import pefile"
   ]
  },
  {
   "cell_type": "code",
   "execution_count": 2,
   "metadata": {},
   "outputs": [],
   "source": [
    "# takes input such as [b'ADVAPI32.dll', b'KERNEL32.dll', b'msvcrt.dll']\n",
    "# and converts case to lower and removes .dll \n",
    "def preprocessImports(listOfDLLs):\n",
    "    processedListOfDLLs = []\n",
    "    return [x.decode().split(\".\")[0].lower() for x in listOfDLLs]\n",
    "\n",
    "def getImports(pe):\n",
    "    listOfImports = []\n",
    "    for entry in pe.DIRECTORY_ENTRY_IMPORT:\n",
    "        listOfImports.append(entry.dll)\n",
    "    return preprocessImports(listOfImports)\n",
    "\n",
    "def getSectionNames(pe):\n",
    "    listOfSectionNames = []\n",
    "    for eachSection in pe.sections:\n",
    "        refined_name = eachSection.Name.decode().replace('\\x00','').lower()\n",
    "        listOfSectionNames.append(refined_name)\n",
    "    return listOfSectionNames"
   ]
  },
  {
   "cell_type": "markdown",
   "metadata": {},
   "source": [
    "The following block may take a couple of minutes to run. It is OK to see 'utf-8' decoding error messages for some of the files."
   ]
  },
  {
   "cell_type": "code",
   "execution_count": 3,
   "metadata": {},
   "outputs": [
    {
     "name": "stdout",
     "output_type": "stream",
     "text": [
      "['Mediyes']\n",
      "'utf-8' codec can't decode byte 0xb1 in position 0: invalid start byte\n",
      "Unable to obtain imports from Mediyes/VirusShare_1a89b7d4fb8ded72e1f8e81ee9352262.exe\n",
      "'utf-8' codec can't decode byte 0xb8 in position 0: invalid start byte\n",
      "Unable to obtain imports from Mediyes/VirusShare_7a30183b105b4200fc201925aba4886c.exe\n",
      "'utf-8' codec can't decode byte 0x8d in position 0: invalid start byte\n",
      "Unable to obtain imports from Mediyes/VirusShare_14f3035781bb698c37ad287483af569e.exe\n"
     ]
    }
   ],
   "source": [
    "importsCorpus = []\n",
    "numSections = []\n",
    "sectionNames = []\n",
    "print (directories)\n",
    "for datasetPath in directories:\n",
    "    samples = [f for f in listdir(datasetPath) if isfile(join(datasetPath,f))]\n",
    "    for file in samples:\n",
    "        filePath = datasetPath+\"/\"+file\n",
    "        try:\n",
    "            pe = pefile.PE(filePath)\n",
    "            imports = getImports(pe)\n",
    "            nSections = len(pe.sections)\n",
    "            secNames = getSectionNames(pe)\n",
    "            importsCorpus.append(imports)\n",
    "            numSections.append(nSections)\n",
    "            sectionNames.append(secNames)\n",
    "                  \n",
    "        except Exception as e: \n",
    "            print(e)\n",
    "            print(\"Unable to obtain imports from \"+filePath)"
   ]
  },
  {
   "cell_type": "code",
   "execution_count": 4,
   "metadata": {},
   "outputs": [
    {
     "name": "stdout",
     "output_type": "stream",
     "text": [
      "[['ws2_32', 'rpcrt4', 'kernel32', 'user32', 'advapi32', 'ole32', 'oleaut32'], ['ntoskrnl', 'hal'], ['ws2_32', 'rpcrt4', 'kernel32', 'user32', 'advapi32', 'ole32', 'oleaut32'], ['ntoskrnl', 'hal'], ['ntoskrnl', 'hal']]\n",
      "[5, 6, 5, 7, 6]\n",
      "[['.text', '.rdata', '.data', '.rsrc', '.reloc'], ['.text', '.rdata', '.data', 'init', '.rsrc', '.reloc'], ['.text', '.rdata', '.data', '.rsrc', '.reloc'], ['.text', '.rdata', '.data', 'page', 'init', '.rsrc', '.reloc'], ['.text', '.rdata', '.data', 'init', '.rsrc', '.reloc']]\n"
     ]
    }
   ],
   "source": [
    "print(importsCorpus[0:5])\n",
    "print(numSections[0:5])\n",
    "print(sectionNames[0:5])"
   ]
  },
  {
   "cell_type": "markdown",
   "metadata": {},
   "source": [
    "**Exercise:** Find and print the names of the top 5 most frequently imported DLLs in the \"Mediyes\" malware dataset. Use a process lookup website (e.g., processlibrary.com) to find the function of each of these top 5 DLLs. Do you see anything suspicious in these calls?"
   ]
  },
  {
   "cell_type": "code",
   "execution_count": null,
   "metadata": {},
   "outputs": [],
   "source": [
    "# Your code"
   ]
  },
  {
   "cell_type": "markdown",
   "metadata": {},
   "source": [
    " -- your answer."
   ]
  }
 ],
 "metadata": {
  "kernelspec": {
   "display_name": "Python 3",
   "language": "python",
   "name": "python3"
  },
  "language_info": {
   "codemirror_mode": {
    "name": "ipython",
    "version": 3
   },
   "file_extension": ".py",
   "mimetype": "text/x-python",
   "name": "python",
   "nbconvert_exporter": "python",
   "pygments_lexer": "ipython3",
   "version": "3.7.4"
  }
 },
 "nbformat": 4,
 "nbformat_minor": 2
}
