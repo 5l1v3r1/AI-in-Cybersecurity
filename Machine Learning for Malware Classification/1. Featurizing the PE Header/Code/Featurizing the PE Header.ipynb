{
 "cells": [
  {
   "cell_type": "markdown",
   "metadata": {},
   "source": [
    "In this exercise, we use the pefile module to analyze PE malware samples in the \"Mediyes\" folder. The goal is to extract the names of the PE sections, as well as the names of imported DLLs from each sample. "
   ]
  },
  {
   "cell_type": "code",
   "execution_count": 5,
   "metadata": {},
   "outputs": [
    {
     "name": "stdout",
     "output_type": "stream",
     "text": [
      "Processing /home/zoochigucci/.cache/pip/wheels/2c/19/61/c79689ef799ed5062f1376a5628fd8427cad5df1e7e15fd095/pefile-2019.4.18-py3-none-any.whl\n",
      "Processing /home/zoochigucci/.cache/pip/wheels/6e/9c/ed/4499c9865ac1002697793e0ae05ba6be33553d098f3347fb94/future-0.18.2-py3-none-any.whl\n",
      "Installing collected packages: future, pefile\n",
      "Successfully installed future-0.18.2 pefile-2019.4.18\n"
     ]
    }
   ],
   "source": [
    "# To install pefile, uncomment and execute the following line:\n",
    "!pip install pefile"
   ]
  },
  {
   "cell_type": "code",
   "execution_count": 6,
   "metadata": {},
   "outputs": [],
   "source": [
    "from os import listdir\n",
    "from os.path import isfile, join\n",
    "directories = [\"Mediyes\"]\n",
    "import pefile"
   ]
  },
  {
   "cell_type": "code",
   "execution_count": 7,
   "metadata": {},
   "outputs": [],
   "source": [
    "# takes input such as [b'ADVAPI32.dll', b'KERNEL32.dll', b'msvcrt.dll']\n",
    "# and converts case to lower and removes .dll \n",
    "def preprocessImports(listOfDLLs):\n",
    "    processedListOfDLLs = []\n",
    "    return [x.decode().split(\".\")[0].lower() for x in listOfDLLs]\n",
    "\n",
    "def getImports(pe):\n",
    "    listOfImports = []\n",
    "    for entry in pe.DIRECTORY_ENTRY_IMPORT:\n",
    "        listOfImports.append(entry.dll)\n",
    "    return preprocessImports(listOfImports)\n",
    "\n",
    "def getSectionNames(pe):\n",
    "    listOfSectionNames = []\n",
    "    for eachSection in pe.sections:\n",
    "        refined_name = eachSection.Name.decode().replace('\\x00','').lower()\n",
    "        listOfSectionNames.append(refined_name)\n",
    "    return listOfSectionNames"
   ]
  },
  {
   "cell_type": "markdown",
   "metadata": {},
   "source": [
    "The following block may take a couple of minutes to run. It is OK to see 'utf-8' decoding error messages for some of the files."
   ]
  },
  {
   "cell_type": "code",
   "execution_count": 8,
   "metadata": {},
   "outputs": [
    {
     "name": "stdout",
     "output_type": "stream",
     "text": [
      "['Mediyes']\n",
      "'utf-8' codec can't decode byte 0x8d in position 0: invalid start byte\n",
      "Unable to obtain imports from Mediyes/VirusShare_14f3035781bb698c37ad287483af569e.exe\n",
      "'utf-8' codec can't decode byte 0xb1 in position 0: invalid start byte\n",
      "Unable to obtain imports from Mediyes/VirusShare_1a89b7d4fb8ded72e1f8e81ee9352262.exe\n",
      "'utf-8' codec can't decode byte 0xb8 in position 0: invalid start byte\n",
      "Unable to obtain imports from Mediyes/VirusShare_7a30183b105b4200fc201925aba4886c.exe\n"
     ]
    }
   ],
   "source": [
    "importsCorpus = []\n",
    "numSections = []\n",
    "sectionNames = []\n",
    "print (directories)\n",
    "for datasetPath in directories:\n",
    "    samples = [f for f in listdir(datasetPath) if isfile(join(datasetPath,f))]\n",
    "    for file in samples:\n",
    "        filePath = datasetPath+\"/\"+file\n",
    "        try:\n",
    "            pe = pefile.PE(filePath)\n",
    "            imports = getImports(pe)\n",
    "            nSections = len(pe.sections)\n",
    "            secNames = getSectionNames(pe)\n",
    "            importsCorpus.append(imports)\n",
    "            numSections.append(nSections)\n",
    "            sectionNames.append(secNames)\n",
    "                  \n",
    "        except Exception as e: \n",
    "            print(e)\n",
    "            print(\"Unable to obtain imports from \"+filePath)"
   ]
  },
  {
   "cell_type": "code",
   "execution_count": 9,
   "metadata": {},
   "outputs": [
    {
     "name": "stdout",
     "output_type": "stream",
     "text": [
      "[['ws2_32', 'rpcrt4', 'kernel32', 'user32', 'advapi32', 'ole32', 'oleaut32'], ['ws2_32', 'rpcrt4', 'kernel32', 'user32', 'advapi32', 'ole32', 'oleaut32'], ['ws2_32', 'rpcrt4', 'kernel32', 'user32', 'advapi32', 'ole32', 'oleaut32'], ['ntoskrnl', 'hal'], ['ntoskrnl', 'hal']]\n",
      "[5, 5, 5, 6, 6]\n",
      "[['.text', '.rdata', '.data', '.rsrc', '.reloc'], ['.text', '.rdata', '.data', '.rsrc', '.reloc'], ['.text', '.rdata', '.data', '.rsrc', '.reloc'], ['.text', '.rdata', '.data', 'init', '.rsrc', '.reloc'], ['.text', '.rdata', '.data', 'init', '.rsrc', '.reloc']]\n"
     ]
    }
   ],
   "source": [
    "print(importsCorpus[0:5])\n",
    "print(numSections[0:5])\n",
    "print(sectionNames[0:5])"
   ]
  },
  {
   "cell_type": "markdown",
   "metadata": {},
   "source": [
    "**Exercise:** Find and print the names of the top 5 most frequently imported DLLs in the \"Mediyes\" malware dataset. Use a process lookup website (e.g., processlibrary.com) to find the function of each of these top 5 DLLs. Do you see anything suspicious in these calls?"
   ]
  },
  {
   "cell_type": "code",
   "execution_count": 44,
   "metadata": {},
   "outputs": [
    {
     "name": "stdout",
     "output_type": "stream",
     "text": [
      "(302, 'kernel32')\n",
      "(287, 'advapi32')\n",
      "(283, 'ws2_32')\n",
      "(282, 'user32')\n",
      "(282, 'ole32')\n",
      "(265, 'oleaut32')\n",
      "(252, 'rpcrt4')\n",
      "(144, 'ntoskrnl')\n",
      "(144, 'hal')\n",
      "(17, 'msvcrt')\n",
      "(17, 'loadperf')\n",
      "(1, 'wininet')\n",
      "(1, 'imagehlp')\n",
      "(1, 'gdi32')\n",
      "(1, 'comctl32')\n"
     ]
    }
   ],
   "source": [
    "#print(len(sectionNames))\n",
    "\n",
    "names = []\n",
    "\n",
    "def rmvNest(data):\n",
    "    for i in data:\n",
    "        if type(i) == list:\n",
    "            rmvNest(i)\n",
    "        else:\n",
    "            names.append(i)\n",
    "\n",
    "rmvNest(importsCorpus)\n",
    "\n",
    "countofNames = [names.count(c) for c in names]\n",
    "pairs = dict(list(zip(names, countofNames)))\n",
    "\n",
    "aux = [(pairs[key], key) for key in pairs]\n",
    "aux.sort()\n",
    "aux.reverse()\n",
    "\n",
    "for s in aux: print(str(s))\n"
   ]
  },
  {
   "cell_type": "markdown",
   "metadata": {},
   "source": [
    "The top five most frequently imported DLLs in the Mediyes malware dataset are:\n",
    "- kernel32\n",
    "- advapi32\n",
    "- ws2_32\n",
    "- user32\n",
    "- ole32\n",
    "\n",
    "*kernel32*: Most windows functions are linked to this kernel DLL in some way.  This is required for the Windows system to work properly and should not be stopped or removed.  It is an executable on the system's harddrive containing machine code.  Handles memory management, input/output operations and interuptions for the given system.  Upon start this is loaded into protected memory space to avoid takeover.\n",
    "\n",
    "*advapi32*: Part of an advanced API service library supporting numerous APIs including security and registry calls.  While considered non-essential, it should not be removed if not the root of an issue as it is necessary for the Windows system to work properly.  It is an executable on the system's harddrive containing machine code.It runs with the start of Windows NT 4.0 on the PC thus is moved into main memory due to frequency of use.\n",
    "\n",
    "*ws2_32*: Pertains to the Windows Sockets API used by most internet and network applications to handle network connections.  This is a necessary system process for the Windows system to work properly and should not be removed.  It is an executable file on the system's harddrive which contains machine code.  Loaded into main memory at start of Windows Sockets software and runs as WinSock 2.0 32bit process.\n",
    "\n",
    "*user32*: A module which contains Windows API functions related to the Windows user interface, including: Windows handling, basic UI functions, This is a necessary system process for the Windows system to work properly and should not be removed.  It is an executable file on the system's harddrive which contains machine code.  Executes at the start of Windows USer API software, thus it is loaded into main memory and runs as Windows User API Client DLL.\n",
    "\n",
    "*ole32*: Contains core OLE (Object Linking and Embedding) functions.  This is a necessary system process for the Windows system to work properly and should not be removed.  It is an executable file on the system's harddrive which contains machine code.  When OLE software is started the DLL will execute and load into main memory; it runs as Microsoft OLE for Windows.\n",
    "\n",
    "**Suspicions**\n",
    "\n",
    "All of these calls access machine code and has direct control over the user's system.  If these files were to be manipulated the system would be effectively \"owned\" by the attacker as these processes cannot be stopped or removed and leave a functional system behind.  The fact that these are called so often leads one to believe there must be a bug in the system which allows for access to these DLLs when there should not be access.  As all of these are loaded into main memory (aside from the Kernel) it may have to do with this process.  It could also have to do with hijacking the auto-load functionality behind these, as most, if not all, of the above processes run at boot of the Windows system."
   ]
  },
  {
   "cell_type": "code",
   "execution_count": null,
   "metadata": {},
   "outputs": [],
   "source": []
  }
 ],
 "metadata": {
  "kernelspec": {
   "display_name": "Python 3",
   "language": "python",
   "name": "python3"
  },
  "language_info": {
   "codemirror_mode": {
    "name": "ipython",
    "version": 3
   },
   "file_extension": ".py",
   "mimetype": "text/x-python",
   "name": "python",
   "nbconvert_exporter": "python",
   "pygments_lexer": "ipython3",
   "version": "3.6.9"
  }
 },
 "nbformat": 4,
 "nbformat_minor": 2
}
